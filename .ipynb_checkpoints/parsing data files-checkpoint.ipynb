{
 "cells": [
  {
   "cell_type": "code",
   "execution_count": 11,
   "metadata": {
    "collapsed": false
   },
   "outputs": [
    {
     "data": {
      "text/plain": [
       "'/Users/liuchang/Documents/STUDY/AM207/Yelp Dataset Challenge/data'"
      ]
     },
     "execution_count": 11,
     "metadata": {},
     "output_type": "execute_result"
    }
   ],
   "source": [
    "import requests\n",
    "from urllib2 import *\n",
    "from requests.auth import HTTPBasicAuth\n",
    "from requests_oauthlib import OAuth1\n",
    "import time\n",
    "import rauth\n",
    "\n",
    "\n",
    "%matplotlib inline\n",
    "import matplotlib.pyplot as plt\n",
    "\n",
    "# you don't have to use seaborn if you prefer plain matplotlib\n",
    "import seaborn as sns\n",
    "sns.set_style('white')\n",
    "sns.set_context('paper')\n",
    "\n",
    "\n",
    "import os, sys \n",
    "aPath='/Users/liuchang/Documents/STUDY/AM207/Yelp Dataset Challenge/data'\n",
    "os.chdir(aPath)\n",
    "os.path.dirname(os.path.abspath(sys.argv[0]))\n"
   ]
  },
  {
   "cell_type": "code",
   "execution_count": 18,
   "metadata": {
    "collapsed": false
   },
   "outputs": [],
   "source": [
    "def _decode_list(data):\n",
    "    rv = []\n",
    "    for item in data:\n",
    "        if isinstance(item, unicode):\n",
    "            item = item.encode('utf-8')\n",
    "        elif isinstance(item, list):\n",
    "            item = _decode_list(item)\n",
    "        elif isinstance(item, dict):\n",
    "            item = _decode_dict(item)\n",
    "        rv.append(item)\n",
    "    return rv\n",
    "\n",
    "\n",
    "def get_results(params):\n",
    "    url = 'http://api.yelp.com/v2/search?'\n",
    "    session = rauth.OAuth1Session(consumer_key='f4L-6UiAJHiMMT7PcYR0WQ',\n",
    "        consumer_secret='p2R7sEZRFm9_VfaAGuwUVkRRiQk',\n",
    "        access_token='LTD5ECUhPTNlqnM2xkU1UqBa0Cmh-oO6',\n",
    "        access_token_secret='6GJrMt6rAY1zmZ3ec9DsWygKOfs')\n",
    "    request= session.get(url, params=params)\n",
    "    # print request\n",
    "    data = request.json()\n",
    "    # print data\n",
    "    # session.close()\n",
    "    return data\n",
    "    \n",
    "\n",
    "# #https://gist.github.com/phillipjohnson/8889618\n",
    "def main():\n",
    "#     locations =[\"AL\",\n",
    "# \"AK\",\n",
    "# \"AZ\",\n",
    "# \"AR\",\n",
    "# \"CA\",\n",
    "# \"CO\",\n",
    "# \"CT\",\n",
    "# \"DE\",\n",
    "# \"FL\",\n",
    "# \"GA\",\n",
    "# \"HI\",\n",
    "# \"ID\",\n",
    "# \"IL\",\n",
    "# \"IN\",\n",
    "# \"IA\",\n",
    "# \"KS\",\n",
    "# \"KY\",\n",
    "# \"LA\",\n",
    "# \"ME\",\n",
    "# \"MD\",\n",
    "# \"MA\",\n",
    "# \"MI\",\n",
    "# \"MN\",\n",
    "# \"MS\",\n",
    "# \"MO\",\n",
    "# \"MT\",\n",
    "# \"NE\",\n",
    "# \"NV\",\n",
    "# \"NH\",\n",
    "# \"NJ\",\n",
    "# \"NM\",\n",
    "# \"NY\",\n",
    "# \"NC\",\n",
    "# \"ND\",\n",
    "# \"OH\",\n",
    "# \"OK\",\n",
    "# \"OR\",\n",
    "# \"PA\",\n",
    "# \"RI\",\n",
    "# \"SC\",\n",
    "# \"SD\",\n",
    "# \"TN\",\n",
    "# \"TX\",\n",
    "# \"UT\",\n",
    "# \"VT\",\n",
    "# \"VA\",\n",
    "# \"WA\",\n",
    "# \"WV\",\n",
    "# \"WI\",\n",
    "# \"WY\"]\n",
    "    locations =[\"Los Angeles\"] #, \"New York\",\"Boston\"]\n",
    "    api_calls= []\n",
    "    for lat in locations:\n",
    "        # print lat\n",
    "        params = get_search_parameters(lat)\n",
    "        # print params\n",
    "        # z=get_results(params)\n",
    "        # print z\n",
    "        api_calls.append(get_results(params))\n",
    "        category=[]\n",
    "    # print api_calls\n",
    "    json_result = api_calls\n",
    "    for number in range(len(locations)):\n",
    "        # print number\n",
    "\n",
    "        for i in json_result[number]['businesses']:\n",
    "            # print i\n",
    "            try:\n",
    "                review_count=i['review_count']\n",
    "                name=i['name'] \n",
    "                rating= i['rating']\n",
    "                city=i['location']['city']\n",
    "                #state=i['location']['state_code']\n",
    "                postal_code=i['location']['postal_code']\n",
    "\n",
    "                coordinate=i['location'].get('coordinate')\n",
    "                # print coordinate\n",
    "                if coordinate != None:\n",
    "                    longitude= coordinate['longitude']\n",
    "                    latitude=coordinate['latitude']\n",
    "                    for h in i['categories']:\n",
    "                        for z in h:\n",
    "                            # print z\n",
    "                            category.append(z)\n",
    "\n",
    "                    category=[h.encode('utf-8') for h in category]\n",
    "                    #print category\n",
    "                    outfile.write(\"%s\\t%s\\t%s\\t%s\\t%s\\t%s\\t%s\\t%s\\n\"%(name,rating,review_count,city,postal_code,latitude,longitude))\n",
    "\n",
    "\n",
    "                else:\n",
    "                    longitude=\"Null\"\n",
    "                    latitude=\"Null\"\n",
    "                    for h in i['categories']:\n",
    "                        for z in h:\n",
    "                            # print z\n",
    "                            category.append(z)\n",
    "\n",
    "                    category=[h.encode('utf-8') for h in category]\n",
    "                    #print category\n",
    "                \n",
    "                #print category\n",
    "                    outfile.write(\"%s\\t%s\\t%s\\t%s\\t%s\\t%s\\t%s\\t%s\\n\"%(name,rating,review_count,city,postal_code,latitude,longitude))\n",
    "            except:\n",
    "                pass\n",
    "\n",
    "\n",
    "\n",
    "\n",
    "def get_search_parameters(lat):\n",
    "    #See the Yelp API for more details\n",
    "    params = {}\n",
    "    params[\"term\"] = \"food\"\n",
    "    params[\"location\"]=lat\n",
    "    params[\"Category\"] = \"restaurants\"\n",
    "    #params[\"limit\"] = \"10\"\n",
    "    return params\n",
    "\n",
    "outfile=open(\"yelp_result2.txt\",\"w\")\n",
    "outfile.write(\"%s\\t%s\\t%s\\t%s\\t%s\\t%s\\t%s\\t%s\\n\"%(\"name\",\"rating\",\"review_count\",\"city\",\"category\",\"postal_code\",\"latitude\",\"longitude\"))\n",
    "if __name__==\"__main__\":\n",
    "    main()\n",
    "   \n",
    "outfile.close()"
   ]
  },
  {
   "cell_type": "code",
   "execution_count": 28,
   "metadata": {
    "collapsed": false
   },
   "outputs": [],
   "source": [
    "import csv\n",
    "\n",
    "# convert a text file into a csv file\n",
    "txt_file2 = r\"yelp_academic_dataset_business.json\"\n",
    "csv_file = r\"mycsv.csv\"\n",
    "in_txt = csv.reader(open(txt_file2, \"rb\"), delimiter = '\\t')\n",
    "out_csv = csv.writer(open(csv_file, 'wb'))\n",
    "\n",
    "out_csv.writerows(in_txt)"
   ]
  },
  {
   "cell_type": "code",
   "execution_count": 8,
   "metadata": {
    "collapsed": false
   },
   "outputs": [
    {
     "ename": "ValueError",
     "evalue": "Extra data: line 2 column 1 - line 61185 column 1 (char 674 - 55412111)",
     "output_type": "error",
     "traceback": [
      "\u001b[0;31m---------------------------------------------------------------------------\u001b[0m\n\u001b[0;31mValueError\u001b[0m                                Traceback (most recent call last)",
      "\u001b[0;32m<ipython-input-8-5f7d04e48e37>\u001b[0m in \u001b[0;36m<module>\u001b[0;34m()\u001b[0m\n\u001b[1;32m      1\u001b[0m \u001b[0;32mwith\u001b[0m \u001b[0mopen\u001b[0m\u001b[0;34m(\u001b[0m\u001b[0;34m\"yelp_academic_dataset_business.json\"\u001b[0m\u001b[0;34m)\u001b[0m \u001b[0;32mas\u001b[0m \u001b[0mfile\u001b[0m\u001b[0;34m:\u001b[0m\u001b[0;34m\u001b[0m\u001b[0m\n\u001b[0;32m----> 2\u001b[0;31m     \u001b[0mdata\u001b[0m \u001b[0;34m=\u001b[0m \u001b[0mjson\u001b[0m\u001b[0;34m.\u001b[0m\u001b[0mload\u001b[0m\u001b[0;34m(\u001b[0m\u001b[0mfile\u001b[0m\u001b[0;34m)\u001b[0m\u001b[0;34m\u001b[0m\u001b[0m\n\u001b[0m\u001b[1;32m      3\u001b[0m \u001b[0mtype\u001b[0m\u001b[0;34m(\u001b[0m\u001b[0mdata\u001b[0m\u001b[0;34m)\u001b[0m\u001b[0;34m\u001b[0m\u001b[0m\n",
      "\u001b[0;32m/Users/liuchang/anaconda/lib/python2.7/json/__init__.pyc\u001b[0m in \u001b[0;36mload\u001b[0;34m(fp, encoding, cls, object_hook, parse_float, parse_int, parse_constant, object_pairs_hook, **kw)\u001b[0m\n\u001b[1;32m    288\u001b[0m         \u001b[0mparse_float\u001b[0m\u001b[0;34m=\u001b[0m\u001b[0mparse_float\u001b[0m\u001b[0;34m,\u001b[0m \u001b[0mparse_int\u001b[0m\u001b[0;34m=\u001b[0m\u001b[0mparse_int\u001b[0m\u001b[0;34m,\u001b[0m\u001b[0;34m\u001b[0m\u001b[0m\n\u001b[1;32m    289\u001b[0m         \u001b[0mparse_constant\u001b[0m\u001b[0;34m=\u001b[0m\u001b[0mparse_constant\u001b[0m\u001b[0;34m,\u001b[0m \u001b[0mobject_pairs_hook\u001b[0m\u001b[0;34m=\u001b[0m\u001b[0mobject_pairs_hook\u001b[0m\u001b[0;34m,\u001b[0m\u001b[0;34m\u001b[0m\u001b[0m\n\u001b[0;32m--> 290\u001b[0;31m         **kw)\n\u001b[0m\u001b[1;32m    291\u001b[0m \u001b[0;34m\u001b[0m\u001b[0m\n\u001b[1;32m    292\u001b[0m \u001b[0;34m\u001b[0m\u001b[0m\n",
      "\u001b[0;32m/Users/liuchang/anaconda/lib/python2.7/json/__init__.pyc\u001b[0m in \u001b[0;36mloads\u001b[0;34m(s, encoding, cls, object_hook, parse_float, parse_int, parse_constant, object_pairs_hook, **kw)\u001b[0m\n\u001b[1;32m    336\u001b[0m             \u001b[0mparse_int\u001b[0m \u001b[0;32mis\u001b[0m \u001b[0mNone\u001b[0m \u001b[0;32mand\u001b[0m \u001b[0mparse_float\u001b[0m \u001b[0;32mis\u001b[0m \u001b[0mNone\u001b[0m \u001b[0;32mand\u001b[0m\u001b[0;34m\u001b[0m\u001b[0m\n\u001b[1;32m    337\u001b[0m             parse_constant is None and object_pairs_hook is None and not kw):\n\u001b[0;32m--> 338\u001b[0;31m         \u001b[0;32mreturn\u001b[0m \u001b[0m_default_decoder\u001b[0m\u001b[0;34m.\u001b[0m\u001b[0mdecode\u001b[0m\u001b[0;34m(\u001b[0m\u001b[0ms\u001b[0m\u001b[0;34m)\u001b[0m\u001b[0;34m\u001b[0m\u001b[0m\n\u001b[0m\u001b[1;32m    339\u001b[0m     \u001b[0;32mif\u001b[0m \u001b[0mcls\u001b[0m \u001b[0;32mis\u001b[0m \u001b[0mNone\u001b[0m\u001b[0;34m:\u001b[0m\u001b[0;34m\u001b[0m\u001b[0m\n\u001b[1;32m    340\u001b[0m         \u001b[0mcls\u001b[0m \u001b[0;34m=\u001b[0m \u001b[0mJSONDecoder\u001b[0m\u001b[0;34m\u001b[0m\u001b[0m\n",
      "\u001b[0;32m/Users/liuchang/anaconda/lib/python2.7/json/decoder.pyc\u001b[0m in \u001b[0;36mdecode\u001b[0;34m(self, s, _w)\u001b[0m\n\u001b[1;32m    367\u001b[0m         \u001b[0mend\u001b[0m \u001b[0;34m=\u001b[0m \u001b[0m_w\u001b[0m\u001b[0;34m(\u001b[0m\u001b[0ms\u001b[0m\u001b[0;34m,\u001b[0m \u001b[0mend\u001b[0m\u001b[0;34m)\u001b[0m\u001b[0;34m.\u001b[0m\u001b[0mend\u001b[0m\u001b[0;34m(\u001b[0m\u001b[0;34m)\u001b[0m\u001b[0;34m\u001b[0m\u001b[0m\n\u001b[1;32m    368\u001b[0m         \u001b[0;32mif\u001b[0m \u001b[0mend\u001b[0m \u001b[0;34m!=\u001b[0m \u001b[0mlen\u001b[0m\u001b[0;34m(\u001b[0m\u001b[0ms\u001b[0m\u001b[0;34m)\u001b[0m\u001b[0;34m:\u001b[0m\u001b[0;34m\u001b[0m\u001b[0m\n\u001b[0;32m--> 369\u001b[0;31m             \u001b[0;32mraise\u001b[0m \u001b[0mValueError\u001b[0m\u001b[0;34m(\u001b[0m\u001b[0merrmsg\u001b[0m\u001b[0;34m(\u001b[0m\u001b[0;34m\"Extra data\"\u001b[0m\u001b[0;34m,\u001b[0m \u001b[0ms\u001b[0m\u001b[0;34m,\u001b[0m \u001b[0mend\u001b[0m\u001b[0;34m,\u001b[0m \u001b[0mlen\u001b[0m\u001b[0;34m(\u001b[0m\u001b[0ms\u001b[0m\u001b[0;34m)\u001b[0m\u001b[0;34m)\u001b[0m\u001b[0;34m)\u001b[0m\u001b[0;34m\u001b[0m\u001b[0m\n\u001b[0m\u001b[1;32m    370\u001b[0m         \u001b[0;32mreturn\u001b[0m \u001b[0mobj\u001b[0m\u001b[0;34m\u001b[0m\u001b[0m\n\u001b[1;32m    371\u001b[0m \u001b[0;34m\u001b[0m\u001b[0m\n",
      "\u001b[0;31mValueError\u001b[0m: Extra data: line 2 column 1 - line 61185 column 1 (char 674 - 55412111)"
     ]
    }
   ],
   "source": [
    "with open(\"yelp_academic_dataset_business.json\") as file:\n",
    "    data = json.load(file)\n",
    "type(data)"
   ]
  },
  {
   "cell_type": "code",
   "execution_count": null,
   "metadata": {
    "collapsed": false
   },
   "outputs": [],
   "source": [
    "with open(\"data.csv\", \"w\") as file:\n",
    "    csv_file = csv.writer(file)\n",
    "    for item in data:\n",
    "        csv_file.writerow([item['pk'], item['model']] + item['fields'].values())"
   ]
  },
  {
   "cell_type": "code",
   "execution_count": 5,
   "metadata": {
    "collapsed": false
   },
   "outputs": [
    {
     "data": {
      "text/plain": [
       "'/Users/liuchang/Documents/STUDY/Projects'"
      ]
     },
     "execution_count": 5,
     "metadata": {},
     "output_type": "execute_result"
    }
   ],
   "source": [
    "import pandas as pd\n",
    "import os\n",
    "os.path.dirname(os.path.realpath(\"yelp_academic_dataset_business.json\"))\n",
    "os.chdir(\"\")\n",
    "#json_file=r\"yelp_academic_dataset_business.json\"\n",
    "#pd.read_json(json_file)"
   ]
  },
  {
   "cell_type": "code",
   "execution_count": 4,
   "metadata": {
    "collapsed": false
   },
   "outputs": [
    {
     "ename": "IOError",
     "evalue": "[Errno 2] No such file or directory: 'yelp_academic_dataset_business.json'",
     "output_type": "error",
     "traceback": [
      "\u001b[0;31m---------------------------------------------------------------------------\u001b[0m\n\u001b[0;31mIOError\u001b[0m                                   Traceback (most recent call last)",
      "\u001b[0;32m<ipython-input-4-48d40ab5aa99>\u001b[0m in \u001b[0;36m<module>\u001b[0;34m()\u001b[0m\n\u001b[0;32m----> 1\u001b[0;31m \u001b[0mf\u001b[0m \u001b[0;34m=\u001b[0m \u001b[0mopen\u001b[0m\u001b[0;34m(\u001b[0m\u001b[0;34m'yelp_academic_dataset_business.json'\u001b[0m\u001b[0;34m,\u001b[0m \u001b[0;34m'rb'\u001b[0m\u001b[0;34m)\u001b[0m\u001b[0;34m\u001b[0m\u001b[0m\n\u001b[0m",
      "\u001b[0;31mIOError\u001b[0m: [Errno 2] No such file or directory: 'yelp_academic_dataset_business.json'"
     ]
    }
   ],
   "source": []
  },
  {
   "cell_type": "code",
   "execution_count": 12,
   "metadata": {
    "collapsed": false
   },
   "outputs": [
    {
     "name": "stdout",
     "output_type": "stream",
     "text": [
      "<type 'list'> <type 'dict'>\n"
     ]
    }
   ],
   "source": [
    "import json\n",
    "\n",
    "def load_json_file(file_path):\n",
    "    \"\"\"\n",
    "    Builds a list of dictionaries from a JSON file\n",
    "\n",
    "    :type file_path: string\n",
    "    :param file_path: the path for the file that contains the businesses\n",
    "    data\n",
    "    :return: a list of dictionaries with the data from the files\n",
    "    \"\"\"\n",
    "    records = [json.loads(line) for line in open(file_path)]\n",
    "\n",
    "    return records\n",
    "\n",
    "def tf_idf_tips(file_path):\n",
    "    records = load_json_file(file_path)\n",
    "    print type(records),type(records[4])\n",
    "\n",
    "    data = [record['stars'] for record in records if 'Restaurants' in record['categories']]\n",
    "\n",
    "    return data\n",
    "\n",
    "\n",
    "tip_matrix = tf_idf_tips(\"yelp_academic_dataset_business.json\")\n"
   ]
  },
  {
   "cell_type": "code",
   "execution_count": 14,
   "metadata": {
    "collapsed": false
   },
   "outputs": [
    {
     "data": {
      "image/png": "[encoded data removed]",
      "text/plain": [
       "<matplotlib.figure.Figure at 0x109dd8bd0>"
      ]
     },
     "metadata": {},
     "output_type": "display_data"
    }
   ],
   "source": [
    "scores = tip_matrix\n",
    "plt.hist(scores,bins=30)\n",
    "plt.show()"
   ]
  },
  {
   "cell_type": "code",
   "execution_count": 15,
   "metadata": {
    "collapsed": false
   },
   "outputs": [
    {
     "ename": "TypeError",
     "evalue": "only integer arrays with one element can be converted to an index",
     "output_type": "error",
     "traceback": [
      "\u001b[0;31m---------------------------------------------------------------------------\u001b[0m\n\u001b[0;31mTypeError\u001b[0m                                 Traceback (most recent call last)",
      "\u001b[0;32m<ipython-input-15-a4bef9017ea3>\u001b[0m in \u001b[0;36m<module>\u001b[0;34m()\u001b[0m\n\u001b[1;32m     17\u001b[0m     \u001b[0mx\u001b[0m \u001b[0;34m=\u001b[0m \u001b[0mscores\u001b[0m\u001b[0;34m\u001b[0m\u001b[0m\n\u001b[1;32m     18\u001b[0m     \u001b[0;31m# find mean 95% CI and 100,000 bootstrap samples\u001b[0m\u001b[0;34m\u001b[0m\u001b[0;34m\u001b[0m\u001b[0m\n\u001b[0;32m---> 19\u001b[0;31m     \u001b[0mlow\u001b[0m\u001b[0;34m,\u001b[0m \u001b[0mhigh\u001b[0m \u001b[0;34m=\u001b[0m \u001b[0mbootstrap\u001b[0m\u001b[0;34m(\u001b[0m\u001b[0mx\u001b[0m\u001b[0;34m,\u001b[0m \u001b[0;36m100000\u001b[0m\u001b[0;34m,\u001b[0m \u001b[0mnp\u001b[0m\u001b[0;34m.\u001b[0m\u001b[0mmean\u001b[0m\u001b[0;34m,\u001b[0m \u001b[0;36m0.05\u001b[0m\u001b[0;34m)\u001b[0m\u001b[0;34m\u001b[0m\u001b[0m\n\u001b[0m\u001b[1;32m     20\u001b[0m \u001b[0;34m\u001b[0m\u001b[0m\n\u001b[1;32m     21\u001b[0m     \u001b[0;31m# make plots\u001b[0m\u001b[0;34m\u001b[0m\u001b[0;34m\u001b[0m\u001b[0m\n",
      "\u001b[0;32m<ipython-input-15-a4bef9017ea3>\u001b[0m in \u001b[0;36mbootstrap\u001b[0;34m(data, num_samples, statistic, alpha)\u001b[0m\n\u001b[1;32m      7\u001b[0m     \u001b[0mn\u001b[0m \u001b[0;34m=\u001b[0m \u001b[0mlen\u001b[0m\u001b[0;34m(\u001b[0m\u001b[0mdata\u001b[0m\u001b[0;34m)\u001b[0m\u001b[0;34m\u001b[0m\u001b[0m\n\u001b[1;32m      8\u001b[0m     \u001b[0midx\u001b[0m \u001b[0;34m=\u001b[0m \u001b[0mnpr\u001b[0m\u001b[0;34m.\u001b[0m\u001b[0mrandint\u001b[0m\u001b[0;34m(\u001b[0m\u001b[0;36m0\u001b[0m\u001b[0;34m,\u001b[0m \u001b[0mn\u001b[0m\u001b[0;34m,\u001b[0m \u001b[0;34m(\u001b[0m\u001b[0mnum_samples\u001b[0m\u001b[0;34m,\u001b[0m \u001b[0mn\u001b[0m\u001b[0;34m)\u001b[0m\u001b[0;34m)\u001b[0m\u001b[0;34m\u001b[0m\u001b[0m\n\u001b[0;32m----> 9\u001b[0;31m     \u001b[0msamples\u001b[0m \u001b[0;34m=\u001b[0m \u001b[0mdata\u001b[0m\u001b[0;34m[\u001b[0m\u001b[0midx\u001b[0m\u001b[0;34m]\u001b[0m\u001b[0;34m\u001b[0m\u001b[0m\n\u001b[0m\u001b[1;32m     10\u001b[0m     \u001b[0mstat\u001b[0m \u001b[0;34m=\u001b[0m \u001b[0mnp\u001b[0m\u001b[0;34m.\u001b[0m\u001b[0msort\u001b[0m\u001b[0;34m(\u001b[0m\u001b[0mstatistic\u001b[0m\u001b[0;34m(\u001b[0m\u001b[0msamples\u001b[0m\u001b[0;34m,\u001b[0m \u001b[0;36m1\u001b[0m\u001b[0;34m)\u001b[0m\u001b[0;34m)\u001b[0m\u001b[0;34m\u001b[0m\u001b[0m\n\u001b[1;32m     11\u001b[0m     return (stat[int((alpha/2.0)*num_samples)],\n",
      "\u001b[0;31mTypeError\u001b[0m: only integer arrays with one element can be converted to an index"
     ]
    }
   ],
   "source": [
    "import numpy as np\n",
    "import numpy.random as npr\n",
    "import pylab\n",
    "\n",
    "def bootstrap(data, num_samples, statistic, alpha):\n",
    "    \"\"\"Returns bootstrap estimate of 100.0*(1-alpha) CI for statistic.\"\"\"\n",
    "    n = len(data)\n",
    "    idx = npr.randint(0, n, (num_samples, n))\n",
    "    samples = data[idx]\n",
    "    stat = np.sort(statistic(samples, 1))\n",
    "    return (stat[int((alpha/2.0)*num_samples)],\n",
    "            stat[int((1-alpha/2.0)*num_samples)])\n",
    "\n",
    "if __name__ == '__main__':\n",
    "    # data of interest is bimodal and obviously not normal\n",
    "    #x = np.concatenate([npr.normal(3, 1, 100), npr.normal(6, 2, 200)])\n",
    "    x = scores\n",
    "    # find mean 95% CI and 100,000 bootstrap samples\n",
    "    low, high = bootstrap(x, 100000, np.mean, 0.05)\n",
    "\n",
    "    # make plots\n",
    "    pylab.figure(figsize=(15,10))\n",
    "    pylab.subplot(121)\n",
    "    pylab.hist(x, 50)\n",
    "    pylab.title('Historgram of data')\n",
    "    pylab.subplot(122)\n",
    "    pylab.plot([-0.03,0.03], [np.mean(x), np.mean(x)], 'r', linewidth=2)\n",
    "    pylab.scatter(0.1*(npr.random(len(x))-0.5), x)\n",
    "    pylab.plot([0.19,0.21], [low, low], 'r', linewidth=2)\n",
    "    pylab.plot([0.19,0.21], [high, high], 'r', linewidth=2)\n",
    "    pylab.plot([0.2,0.2], [low, high], 'r', linewidth=2)\n",
    "    pylab.xlim([-0.2, 0.3])\n",
    "    pylab.title('Bootstrap 95% CI for mean')\n",
    "    #pylab.savefig('examples/boostrap.png')"
   ]
  },
  {
   "cell_type": "code",
   "execution_count": 8,
   "metadata": {
    "collapsed": false
   },
   "outputs": [
    {
     "data": {
      "text/plain": [
       "300"
      ]
     },
     "execution_count": 8,
     "metadata": {},
     "output_type": "execute_result"
    }
   ],
   "source": [
    "len(x)"
   ]
  },
  {
   "cell_type": "code",
   "execution_count": null,
   "metadata": {
    "collapsed": false
   },
   "outputs": [],
   "source": []
  }
 ],
 "metadata": {
  "kernelspec": {
   "display_name": "Python 2",
   "language": "python",
   "name": "python2"
  },
  "language_info": {
   "codemirror_mode": {
    "name": "ipython",
    "version": 2
   },
   "file_extension": ".py",
   "mimetype": "text/x-python",
   "name": "python",
   "nbconvert_exporter": "python",
   "pygments_lexer": "ipython2",
   "version": "2.7.9"
  }
 },
 "nbformat": 4,
 "nbformat_minor": 0
}
