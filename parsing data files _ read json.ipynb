{
 "cells": [
  {
   "cell_type": "code",
   "execution_count": 16,
   "metadata": {
    "collapsed": false
   },
   "outputs": [
    {
     "data": {
      "text/plain": [
       "'/Users/liuchang/Documents/STUDY/AM207/Final Project/Data/data subset'"
      ]
     },
     "execution_count": 16,
     "metadata": {},
     "output_type": "execute_result"
    }
   ],
   "source": [
    "%matplotlib inline\n",
    "import matplotlib.pyplot as plt\n",
    "import pandas as pd\n",
    "import os, sys \n",
    "import json\n",
    "\n",
    "aPath='/Users/liuchang/Documents/STUDY/AM207/Final Project/Data/data subset'\n",
    "os.chdir(aPath)\n",
    "os.path.dirname(os.path.abspath('biz.json'))"
   ]
  },
  {
   "cell_type": "markdown",
   "metadata": {},
   "source": [
    "# Sample data for a Yelp business\n",
    "{\"business_id\": \"SQ0j7bgSTazkVQlF5AnqyQ\", \"full_address\": \"214 E Main St\\nCarnegie\\nCarnegie, PA 15106\", \"hours\": {}, \"open\": true, \"categories\": [\"Chinese\", \"Restaurants\"], \"city\": \"Carnegie\", \"review_count\": 8, \"name\": \"Don Don Chinese Restaurant\", \"neighborhoods\": [\"Carnegie\"], \"longitude\": -80.084861000000004, \"state\": \"PA\", \"stars\": 2.5, \"latitude\": 40.408343000000002, \"attributes\": {\"Take-out\": true, \"Alcohol\": \"none\", \"Noise Level\": \"quiet\", \"Parking\": {\"garage\": false, \"street\": false, \"validated\": false, \"lot\": false, \"valet\": false}, \"Delivery\": true, \"Has TV\": true, \"Outdoor Seating\": false, \"Attire\": \"casual\", \"Waiter Service\": false, \"Good For Groups\": false, \"Price Range\": 1}, \"type\": \"business\"}\n",
    "\n",
    "# Sample data for a Yelp user\n",
    "\n",
    "{\"yelping_since\": \"2004-10\", \"votes\": {\"funny\": 166, \"useful\": 278, \"cool\": 245}, \"review_count\": 108, \"name\": \"Russel\", \"user_id\": \"18kPq7GPye-YQ3LyKyAZPw\", \"friends\": .... \"fans\": 69, \"average_stars\": 4.1399999999999997, \"type\": \"user\", \"compliments\": {\"profile\": 8, \"cute\": 15, \"funny\": 11, \"plain\": 25, \"writer\": 9, \"note\": 20, \"photos\": 15, \"hot\": 48, \"cool\": 78, \"more\": 3}, \"elite\": [2005, 2006]}\n",
    "\n",
    "# Sample data for a Yelp review\n",
    "\n",
    "{\"votes\": {\"funny\": 0, \"useful\": 1, \"cool\": 0}, \"user_id\": \"uK8tzraOp4M5u3uYrqIBXg\", \"review_id\": \"KAkcn7oQP1xX8KsZ-XmktA\", \"stars\": 4, \"date\": \"2013-10-20\", \"text\": \"This place was very good. I found out about Emil's when watching a show called \\\"25 Things I Love About Pittsburgh\\\" on WQED hosted by Rick Seback. This place ain't a luxurious restaurant...it's a beer & a shot bar / lounge. But the people are friendly & the food is good. I had the fish sandwich which was great. It ain't in a great part of town, Rankin, but I've been in worse places!! Try this place.\", \"type\": \"review\", \"business_id\": \"mVHrayjG3uZ_RLHkLj-AMg\"}\n",
    "\n",
    "## brainstorming questions:\n",
    "\n",
    "1. What attributes of users (mood, review counts, etc) tend to give high/lower ratings to a certain type of restaurants (cuisine, locations, money, service)?\n",
    "\n",
    "For example, how does dependency of ?\n",
    "define your model $P(D|\\theta)$\n",
    "\n",
    "response variable - covariates: \n",
    "\n",
    "\n",
    "hierarchical model\n",
    "posterior paramenter/correlation distribution \n",
    "\n",
    "division into subproblems on the same theme or use different techniques to arrive at the same conclusion.\n",
    "data augmentation\n",
    "hidden labels/variable\n",
    "\n",
    "\n",
    "2. What attributes of reviews (words, tones, etc) correlate with the ratings of the restaurant?\n"
   ]
  },
  {
   "cell_type": "code",
   "execution_count": 131,
   "metadata": {
    "collapsed": false
   },
   "outputs": [],
   "source": [
    "def open_json(json_file):\n",
    "    with open(json_file) as f:\n",
    "        for lines in f:\n",
    "            #line = f.next()\n",
    "            d = json.loads(lines)\n",
    "            df = pd.DataFrame(columns=d.keys())\n",
    "            \n",
    "            # df[d.keys()[0]]= d[d.keys()[0]]\n",
    "    return df"
   ]
  },
  {
   "cell_type": "code",
   "execution_count": 132,
   "metadata": {
    "collapsed": true
   },
   "outputs": [],
   "source": [
    "# list of files\n",
    "biz_file =\"/Users/liuchang/Documents/STUDY/AM207/Final Project/Data/data subset/biz.json\"\n",
    "\n",
    "review_file =\"/Users/liuchang/Documents/STUDY/AM207/Final Project/Data/data subset/review.json\"\n",
    "\n",
    "checkin_file =\"/Users/liuchang/Documents/STUDY/AM207/Final Project/Data/data subset/checkin.json\"\n",
    "\n",
    "tip_file =\"/Users/liuchang/Documents/STUDY/AM207/Final Project/Data/data subset/tip.json\"\n",
    "\n",
    "user_file =\"/Users/liuchang/Documents/STUDY/AM207/Final Project/Data/data subset/user.json\""
   ]
  },
  {
   "cell_type": "code",
   "execution_count": 134,
   "metadata": {
    "collapsed": false
   },
   "outputs": [
    {
     "name": "stdout",
     "output_type": "stream",
     "text": [
      "biz_file\n",
      "Empty DataFrame\n",
      "Columns: [city, review_count, name, neighborhoods, type, business_id, full_address, hours, state, longitude, stars, latitude, attributes, open, categories]\n",
      "Index: []\n",
      "\n",
      "review_file\n",
      "Empty DataFrame\n",
      "Columns: [votes, user_id, review_id, text, business_id, stars, date, type]\n",
      "Index: []\n",
      "\n",
      "checkin_file\n",
      "Empty DataFrame\n",
      "Columns: [checkin_info, type, business_id]\n",
      "Index: []\n",
      "\n",
      "tip_file\n",
      "Empty DataFrame\n",
      "Columns: [user_id, text, business_id, likes, date, type]\n",
      "Index: []\n",
      "\n",
      "user_file\n",
      "Empty DataFrame\n",
      "Columns: [yelping_since, votes, user_id, name, elite, type, compliments, fans, average_stars, review_count, friends]\n",
      "Index: []\n",
      "\n"
     ]
    }
   ],
   "source": [
    "text = \"biz_file,review_file,checkin_file,tip_file,user_file\".split(',')\n",
    "for idx, i in enumerate([biz_file,review_file,checkin_file,tip_file,user_file]): \n",
    "    headers = open_json(i)\n",
    "    print text[idx]\n",
    "    print headers\n",
    "    print        "
   ]
  },
  {
   "cell_type": "markdown",
   "metadata": {},
   "source": []
  },
  {
   "cell_type": "code",
   "execution_count": 110,
   "metadata": {
    "collapsed": false
   },
   "outputs": [
    {
     "name": "stdout",
     "output_type": "stream",
     "text": [
      "<type 'str'>\n"
     ]
    }
   ],
   "source": [
    "print type(\"biz_file,review_file,checkin_file,tip_file,user_file\".split(',')[0])"
   ]
  },
  {
   "cell_type": "code",
   "execution_count": 15,
   "metadata": {
    "collapsed": false
   },
   "outputs": [
    {
     "ename": "ValueError",
     "evalue": "Trailing data",
     "output_type": "error",
     "traceback": [
      "\u001b[0;31m---------------------------------------------------------------------------\u001b[0m",
      "\u001b[0;31mValueError\u001b[0m                                Traceback (most recent call last)",
      "\u001b[0;32m<ipython-input-15-25b574438c1e>\u001b[0m in \u001b[0;36m<module>\u001b[0;34m()\u001b[0m\n\u001b[1;32m      1\u001b[0m \u001b[0mjson_file\u001b[0m\u001b[0;34m=\u001b[0m\u001b[0;34m\"/Users/liuchang/Documents/STUDY/AM207/Final Project/Data/data subset/biz.json\"\u001b[0m\u001b[0;34m\u001b[0m\u001b[0m\n\u001b[0;32m----> 2\u001b[0;31m \u001b[0mbiz\u001b[0m \u001b[0;34m=\u001b[0m\u001b[0mpd\u001b[0m\u001b[0;34m.\u001b[0m\u001b[0mio\u001b[0m\u001b[0;34m.\u001b[0m\u001b[0mjson\u001b[0m\u001b[0;34m.\u001b[0m\u001b[0mread_json\u001b[0m\u001b[0;34m(\u001b[0m\u001b[0mjson_file\u001b[0m\u001b[0;34m,\u001b[0m\u001b[0morient\u001b[0m\u001b[0;34m=\u001b[0m\u001b[0;34m'Dataframe'\u001b[0m\u001b[0;34m)\u001b[0m\u001b[0;34m\u001b[0m\u001b[0m\n\u001b[0m\u001b[1;32m      3\u001b[0m \u001b[0mbiz\u001b[0m\u001b[0;34m\u001b[0m\u001b[0m\n",
      "\u001b[0;32m/Users/liuchang/anaconda/lib/python2.7/site-packages/pandas/io/json.pyc\u001b[0m in \u001b[0;36mread_json\u001b[0;34m(path_or_buf, orient, typ, dtype, convert_axes, convert_dates, keep_default_dates, numpy, precise_float, date_unit)\u001b[0m\n\u001b[1;32m    196\u001b[0m         obj = FrameParser(json, orient, dtype, convert_axes, convert_dates,\n\u001b[1;32m    197\u001b[0m                           \u001b[0mkeep_default_dates\u001b[0m\u001b[0;34m,\u001b[0m \u001b[0mnumpy\u001b[0m\u001b[0;34m,\u001b[0m \u001b[0mprecise_float\u001b[0m\u001b[0;34m,\u001b[0m\u001b[0;34m\u001b[0m\u001b[0m\n\u001b[0;32m--> 198\u001b[0;31m                           date_unit).parse()\n\u001b[0m\u001b[1;32m    199\u001b[0m \u001b[0;34m\u001b[0m\u001b[0m\n\u001b[1;32m    200\u001b[0m     \u001b[0;32mif\u001b[0m \u001b[0mtyp\u001b[0m \u001b[0;34m==\u001b[0m \u001b[0;34m'series'\u001b[0m \u001b[0;32mor\u001b[0m \u001b[0mobj\u001b[0m \u001b[0;32mis\u001b[0m \u001b[0mNone\u001b[0m\u001b[0;34m:\u001b[0m\u001b[0;34m\u001b[0m\u001b[0m\n",
      "\u001b[0;32m/Users/liuchang/anaconda/lib/python2.7/site-packages/pandas/io/json.pyc\u001b[0m in \u001b[0;36mparse\u001b[0;34m(self)\u001b[0m\n\u001b[1;32m    264\u001b[0m \u001b[0;34m\u001b[0m\u001b[0m\n\u001b[1;32m    265\u001b[0m         \u001b[0;32melse\u001b[0m\u001b[0;34m:\u001b[0m\u001b[0;34m\u001b[0m\u001b[0m\n\u001b[0;32m--> 266\u001b[0;31m             \u001b[0mself\u001b[0m\u001b[0;34m.\u001b[0m\u001b[0m_parse_no_numpy\u001b[0m\u001b[0;34m(\u001b[0m\u001b[0;34m)\u001b[0m\u001b[0;34m\u001b[0m\u001b[0m\n\u001b[0m\u001b[1;32m    267\u001b[0m \u001b[0;34m\u001b[0m\u001b[0m\n\u001b[1;32m    268\u001b[0m         \u001b[0;32mif\u001b[0m \u001b[0mself\u001b[0m\u001b[0;34m.\u001b[0m\u001b[0mobj\u001b[0m \u001b[0;32mis\u001b[0m \u001b[0mNone\u001b[0m\u001b[0;34m:\u001b[0m\u001b[0;34m\u001b[0m\u001b[0m\n",
      "\u001b[0;32m/Users/liuchang/anaconda/lib/python2.7/site-packages/pandas/io/json.pyc\u001b[0m in \u001b[0;36m_parse_no_numpy\u001b[0;34m(self)\u001b[0m\n\u001b[1;32m    494\u001b[0m         \u001b[0;32melse\u001b[0m\u001b[0;34m:\u001b[0m\u001b[0;34m\u001b[0m\u001b[0m\n\u001b[1;32m    495\u001b[0m             self.obj = DataFrame(\n\u001b[0;32m--> 496\u001b[0;31m                 loads(json, precise_float=self.precise_float), dtype=None)\n\u001b[0m\u001b[1;32m    497\u001b[0m \u001b[0;34m\u001b[0m\u001b[0m\n\u001b[1;32m    498\u001b[0m     \u001b[0;32mdef\u001b[0m \u001b[0m_process_converter\u001b[0m\u001b[0;34m(\u001b[0m\u001b[0mself\u001b[0m\u001b[0;34m,\u001b[0m \u001b[0mf\u001b[0m\u001b[0;34m,\u001b[0m \u001b[0mfilt\u001b[0m\u001b[0;34m=\u001b[0m\u001b[0mNone\u001b[0m\u001b[0;34m)\u001b[0m\u001b[0;34m:\u001b[0m\u001b[0;34m\u001b[0m\u001b[0m\n",
      "\u001b[0;31mValueError\u001b[0m: Trailing data"
     ]
    }
   ],
   "source": [
    "json_file=\"/Users/liuchang/Documents/STUDY/AM207/Final Project/Data/data subset/biz.json\"\n",
    "biz =pd.io.json.read_json(json_file,orient='Dataframe')\n",
    "biz"
   ]
  },
  {
   "cell_type": "code",
   "execution_count": 5,
   "metadata": {
    "collapsed": false
   },
   "outputs": [
    {
     "data": {
      "text/plain": [
       "'/Users/liuchang/Documents/STUDY/Projects'"
      ]
     },
     "execution_count": 5,
     "metadata": {},
     "output_type": "execute_result"
    }
   ],
   "source": [
    "import pandas as pd\n",
    "import os\n",
    "os.path.dirname(os.path.realpath(\"yelp_academic_dataset_business.json\"))\n",
    "os.chdir(\"\")\n"
   ]
  },
  {
   "cell_type": "code",
   "execution_count": 12,
   "metadata": {
    "collapsed": false
   },
   "outputs": [
    {
     "name": "stdout",
     "output_type": "stream",
     "text": [
      "<type 'list'> <type 'dict'>\n"
     ]
    }
   ],
   "source": [
    "import json\n",
    "\n",
    "def load_json_file(file_path):\n",
    "    \"\"\"\n",
    "    Builds a list of dictionaries from a JSON file\n",
    "\n",
    "    :type file_path: string\n",
    "    :param file_path: the path for the file that contains the businesses\n",
    "    data\n",
    "    :return: a list of dictionaries with the data from the files\n",
    "    \"\"\"\n",
    "    records = [json.loads(line) for line in open(file_path)]\n",
    "\n",
    "    return records\n",
    "\n",
    "def tf_idf_tips(file_path):\n",
    "    records = load_json_file(file_path)\n",
    "    print type(records),type(records[4])\n",
    "\n",
    "    data = [record['stars'] for record in records if 'Restaurants' in record['categories']]\n",
    "\n",
    "    return data\n",
    "\n",
    "\n",
    "tip_matrix = tf_idf_tips(\"yelp_academic_dataset_business.json\")\n"
   ]
  },
  {
   "cell_type": "code",
   "execution_count": 14,
   "metadata": {
    "collapsed": false
   },
   "outputs": [
    {
     "data": {
      "image/png": "[encoded data removed]",
      "text/plain": [
       "<matplotlib.figure.Figure at 0x109dd8bd0>"
      ]
     },
     "metadata": {},
     "output_type": "display_data"
    }
   ],
   "source": [
    "scores = tip_matrix\n",
    "plt.hist(scores,bins=30)\n",
    "plt.show()"
   ]
  },
  {
   "cell_type": "code",
   "execution_count": 15,
   "metadata": {
    "collapsed": false
   },
   "outputs": [
    {
     "ename": "TypeError",
     "evalue": "only integer arrays with one element can be converted to an index",
     "output_type": "error",
     "traceback": [
      "\u001b[0;31m---------------------------------------------------------------------------\u001b[0m\n\u001b[0;31mTypeError\u001b[0m                                 Traceback (most recent call last)",
      "\u001b[0;32m<ipython-input-15-a4bef9017ea3>\u001b[0m in \u001b[0;36m<module>\u001b[0;34m()\u001b[0m\n\u001b[1;32m     17\u001b[0m     \u001b[0mx\u001b[0m \u001b[0;34m=\u001b[0m \u001b[0mscores\u001b[0m\u001b[0;34m\u001b[0m\u001b[0m\n\u001b[1;32m     18\u001b[0m     \u001b[0;31m# find mean 95% CI and 100,000 bootstrap samples\u001b[0m\u001b[0;34m\u001b[0m\u001b[0;34m\u001b[0m\u001b[0m\n\u001b[0;32m---> 19\u001b[0;31m     \u001b[0mlow\u001b[0m\u001b[0;34m,\u001b[0m \u001b[0mhigh\u001b[0m \u001b[0;34m=\u001b[0m \u001b[0mbootstrap\u001b[0m\u001b[0;34m(\u001b[0m\u001b[0mx\u001b[0m\u001b[0;34m,\u001b[0m \u001b[0;36m100000\u001b[0m\u001b[0;34m,\u001b[0m \u001b[0mnp\u001b[0m\u001b[0;34m.\u001b[0m\u001b[0mmean\u001b[0m\u001b[0;34m,\u001b[0m \u001b[0;36m0.05\u001b[0m\u001b[0;34m)\u001b[0m\u001b[0;34m\u001b[0m\u001b[0m\n\u001b[0m\u001b[1;32m     20\u001b[0m \u001b[0;34m\u001b[0m\u001b[0m\n\u001b[1;32m     21\u001b[0m     \u001b[0;31m# make plots\u001b[0m\u001b[0;34m\u001b[0m\u001b[0;34m\u001b[0m\u001b[0m\n",
      "\u001b[0;32m<ipython-input-15-a4bef9017ea3>\u001b[0m in \u001b[0;36mbootstrap\u001b[0;34m(data, num_samples, statistic, alpha)\u001b[0m\n\u001b[1;32m      7\u001b[0m     \u001b[0mn\u001b[0m \u001b[0;34m=\u001b[0m \u001b[0mlen\u001b[0m\u001b[0;34m(\u001b[0m\u001b[0mdata\u001b[0m\u001b[0;34m)\u001b[0m\u001b[0;34m\u001b[0m\u001b[0m\n\u001b[1;32m      8\u001b[0m     \u001b[0midx\u001b[0m \u001b[0;34m=\u001b[0m \u001b[0mnpr\u001b[0m\u001b[0;34m.\u001b[0m\u001b[0mrandint\u001b[0m\u001b[0;34m(\u001b[0m\u001b[0;36m0\u001b[0m\u001b[0;34m,\u001b[0m \u001b[0mn\u001b[0m\u001b[0;34m,\u001b[0m \u001b[0;34m(\u001b[0m\u001b[0mnum_samples\u001b[0m\u001b[0;34m,\u001b[0m \u001b[0mn\u001b[0m\u001b[0;34m)\u001b[0m\u001b[0;34m)\u001b[0m\u001b[0;34m\u001b[0m\u001b[0m\n\u001b[0;32m----> 9\u001b[0;31m     \u001b[0msamples\u001b[0m \u001b[0;34m=\u001b[0m \u001b[0mdata\u001b[0m\u001b[0;34m[\u001b[0m\u001b[0midx\u001b[0m\u001b[0;34m]\u001b[0m\u001b[0;34m\u001b[0m\u001b[0m\n\u001b[0m\u001b[1;32m     10\u001b[0m     \u001b[0mstat\u001b[0m \u001b[0;34m=\u001b[0m \u001b[0mnp\u001b[0m\u001b[0;34m.\u001b[0m\u001b[0msort\u001b[0m\u001b[0;34m(\u001b[0m\u001b[0mstatistic\u001b[0m\u001b[0;34m(\u001b[0m\u001b[0msamples\u001b[0m\u001b[0;34m,\u001b[0m \u001b[0;36m1\u001b[0m\u001b[0;34m)\u001b[0m\u001b[0;34m)\u001b[0m\u001b[0;34m\u001b[0m\u001b[0m\n\u001b[1;32m     11\u001b[0m     return (stat[int((alpha/2.0)*num_samples)],\n",
      "\u001b[0;31mTypeError\u001b[0m: only integer arrays with one element can be converted to an index"
     ]
    }
   ],
   "source": [
    "import numpy as np\n",
    "import numpy.random as npr\n",
    "import pylab\n",
    "\n",
    "def bootstrap(data, num_samples, statistic, alpha):\n",
    "    \"\"\"Returns bootstrap estimate of 100.0*(1-alpha) CI for statistic.\"\"\"\n",
    "    n = len(data)\n",
    "    idx = npr.randint(0, n, (num_samples, n))\n",
    "    samples = data[idx]\n",
    "    stat = np.sort(statistic(samples, 1))\n",
    "    return (stat[int((alpha/2.0)*num_samples)],\n",
    "            stat[int((1-alpha/2.0)*num_samples)])\n",
    "\n",
    "if __name__ == '__main__':\n",
    "    # data of interest is bimodal and obviously not normal\n",
    "    #x = np.concatenate([npr.normal(3, 1, 100), npr.normal(6, 2, 200)])\n",
    "    x = scores\n",
    "    # find mean 95% CI and 100,000 bootstrap samples\n",
    "    low, high = bootstrap(x, 100000, np.mean, 0.05)\n",
    "\n",
    "    # make plots\n",
    "    pylab.figure(figsize=(15,10))\n",
    "    pylab.subplot(121)\n",
    "    pylab.hist(x, 50)\n",
    "    pylab.title('Historgram of data')\n",
    "    pylab.subplot(122)\n",
    "    pylab.plot([-0.03,0.03], [np.mean(x), np.mean(x)], 'r', linewidth=2)\n",
    "    pylab.scatter(0.1*(npr.random(len(x))-0.5), x)\n",
    "    pylab.plot([0.19,0.21], [low, low], 'r', linewidth=2)\n",
    "    pylab.plot([0.19,0.21], [high, high], 'r', linewidth=2)\n",
    "    pylab.plot([0.2,0.2], [low, high], 'r', linewidth=2)\n",
    "    pylab.xlim([-0.2, 0.3])\n",
    "    pylab.title('Bootstrap 95% CI for mean')\n",
    "    #pylab.savefig('examples/boostrap.png')"
   ]
  },
  {
   "cell_type": "code",
   "execution_count": 8,
   "metadata": {
    "collapsed": false
   },
   "outputs": [
    {
     "data": {
      "text/plain": [
       "300"
      ]
     },
     "execution_count": 8,
     "metadata": {},
     "output_type": "execute_result"
    }
   ],
   "source": [
    "len(x)"
   ]
  },
  {
   "cell_type": "code",
   "execution_count": null,
   "metadata": {
    "collapsed": false
   },
   "outputs": [],
   "source": []
  }
 ],
 "metadata": {
  "kernelspec": {
   "display_name": "Python 2",
   "language": "python",
   "name": "python2"
  },
  "language_info": {
   "codemirror_mode": {
    "name": "ipython",
    "version": 2
   },
   "file_extension": ".py",
   "mimetype": "text/x-python",
   "name": "python",
   "nbconvert_exporter": "python",
   "pygments_lexer": "ipython2",
   "version": "2.7.9"
  }
 },
 "nbformat": 4,
 "nbformat_minor": 0
}
